{
  "nbformat": 4,
  "nbformat_minor": 0,
  "metadata": {
    "colab": {
      "provenance": [],
      "authorship_tag": "ABX9TyNt+6q6au0SBymsBo/KAP1y",
      "include_colab_link": true
    },
    "kernelspec": {
      "name": "python3",
      "display_name": "Python 3"
    },
    "language_info": {
      "name": "python"
    }
  },
  "cells": [
    {
      "cell_type": "markdown",
      "metadata": {
        "id": "view-in-github",
        "colab_type": "text"
      },
      "source": [
        "<a href=\"https://colab.research.google.com/github/poopcatt/BP_05_Ch7/blob/main/BP_05_EX_Ch7.ipynb\" target=\"_parent\"><img src=\"https://colab.research.google.com/assets/colab-badge.svg\" alt=\"Open In Colab\"/></a>"
      ]
    },
    {
      "cell_type": "markdown",
      "source": [
        "5. 다음과 같이 이름을 받아서 생일 축하 노래를 출력하는 함수 happyBirtday()를 작성하고 테스트하시오."
      ],
      "metadata": {
        "id": "xiAgr5qzEvdW"
      }
    },
    {
      "cell_type": "code",
      "source": [
        "def happyBirthday(name):                      #name 변수로 값 지정\n",
        "    print(\"Happy Birthday to you!\")\n",
        "    print(\"Happy Birthday to you!\")\n",
        "    print(\"Happy Birthday,\" + name)\n",
        "    print(\"Happy Birthday to you!\")\n",
        "\n",
        "happyBirthday(input())"
      ],
      "metadata": {
        "colab": {
          "base_uri": "https://localhost:8080/"
        },
        "id": "D93mIK4tEvhG",
        "outputId": "0bc554a8-86ce-487c-c3cf-24ad29915992"
      },
      "execution_count": 1,
      "outputs": [
        {
          "output_type": "stream",
          "name": "stdout",
          "text": [
            ".\n",
            "Happy Birthday to you!\n",
            "Happy Birthday to you!\n",
            "Happy Birthday,.\n",
            "Happy Birthday to you!\n"
          ]
        }
      ]
    },
    {
      "cell_type": "markdown",
      "source": [
        "06. 사용자로부터 2개의 정수를 받아서 수학 문제를 만들어서 화면에 출력하는 함수를 작성하고 테스트하시오."
      ],
      "metadata": {
        "id": "wHmO5PeJFLf-"
      }
    },
    {
      "cell_type": "code",
      "source": [
        "x=int(input(\"첫 번째 정수:\"))\n",
        "y=int(input(\"두 번째 정수:\"))\n",
        "\n",
        "def sum(x,y):                               #def함수로 sum값 지정\n",
        "  print(\"정수 %s+%s의 합은?\" %(x,y))        #print형 문자열(%s)\n",
        "\n",
        "sum(x, y)"
      ],
      "metadata": {
        "colab": {
          "base_uri": "https://localhost:8080/"
        },
        "id": "e1X3VhUGFPlW",
        "outputId": "b6105fcc-cc29-4bba-f124-287e3d7a4c95"
      },
      "execution_count": 3,
      "outputs": [
        {
          "output_type": "stream",
          "name": "stdout",
          "text": [
            "첫 번째 정수:10\n",
            "두 번째 정수:20\n",
            "정수 10+20의 합은?\n"
          ]
        }
      ]
    },
    {
      "cell_type": "markdown",
      "source": [
        "07. 파이를 나타내는 PI=3.14를 전역 변수로 하여 원의 면적을 계산하는 함수 circleArea(radius)과 원의 둘레를 계산하는 함수 circleCircumference(radius)를 작성하고 테스트하라."
      ],
      "metadata": {
        "id": "ijULot1jGYhU"
      }
    },
    {
      "cell_type": "code",
      "source": [
        "pi=3.14\n",
        "\n",
        "def circleArea(rad):                                      #원의 면적(넓이)를 출력하는 함수 circleArea\n",
        "  return pi*rad**2\n",
        "def circleCircumference(rad):                             #원의 둘레를 출력하는 함수 circleCircumference\n",
        "  return 2*pi*rad\n",
        "\n",
        "print(\"반지름이 5인 원의 면적:\", circleArea(5))\n",
        "print(\"반지름이 5인 원의 둘레:\", circleCircumference(5))"
      ],
      "metadata": {
        "colab": {
          "base_uri": "https://localhost:8080/"
        },
        "id": "GeZgosulGd2L",
        "outputId": "df93db7a-f757-4afe-e080-1d81ec51579e"
      },
      "execution_count": 8,
      "outputs": [
        {
          "output_type": "stream",
          "name": "stdout",
          "text": [
            "반지름이 5인 원의 면적: 78.5\n",
            "반지름이 5인 원의 둘레: 31.400000000000002\n"
          ]
        }
      ]
    },
    {
      "cell_type": "markdown",
      "source": [
        "08. 덧셈, 뺄셈, 곱셈, 나눗셈을 수행하는 함수를 각각 작성하고 테스트하라."
      ],
      "metadata": {
        "id": "6Ee9BvDZHD0r"
      }
    },
    {
      "cell_type": "code",
      "source": [
        "def add(x,y):\n",
        "  return x+y\n",
        "def min(x,y):\n",
        "  return x-y\n",
        "def mul(x,y):\n",
        "  return x*y\n",
        "def div(x,y):\n",
        "  return x/y                                   #x와 y를 파이썬값으로 모두 반환\n",
        "\n",
        "x=int(input(\"x:\"))\n",
        "y=int(input(\"y:\"))\n",
        "print(\"(%s+%s)=%s\" %(x,y, add(x,y)))\n",
        "print(\"(%s-%s)=%s\" %(x,y, min(x,y)))\n",
        "print(\"(%s*%s)=%s\" %(x,y, mul(x,y)))\n",
        "print(\"(%s/%s)=%s\" %(x,y, div(x,y)))          #print형 문자열 %s로 각각 더하기, 빼기, 곱하기, 나누기 출력"
      ],
      "metadata": {
        "colab": {
          "base_uri": "https://localhost:8080/"
        },
        "id": "IXABSBaaHGNz",
        "outputId": "2ca45a26-338c-4f21-cbb4-cd035eaaa56c"
      },
      "execution_count": 7,
      "outputs": [
        {
          "output_type": "stream",
          "name": "stdout",
          "text": [
            "x:20\n",
            "y:10\n",
            "(20+10)=30\n",
            "(20-10)=10\n",
            "(20*10)=200\n",
            "(20/10)=2.0\n"
          ]
        }
      ]
    }
  ]
}